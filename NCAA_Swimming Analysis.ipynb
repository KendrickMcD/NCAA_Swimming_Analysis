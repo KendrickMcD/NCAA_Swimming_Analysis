{
 "cells": [
  {
   "attachments": {},
   "cell_type": "markdown",
   "metadata": {},
   "source": [
    "# USA Swimming Data Analysis\n",
    "\n",
    "Kendrick McDonald\n",
    "\n",
    "At both the Men's and Women's NCAA Division 1 Swimming Championships this March, as well as conference championships earlier in the season, it seemed like NCAA records were falling at an unprecedented rate. Some of the top performers achieved times I never thought I would see in my lifetime. Perhaps even more interesting, it seemed that the top end of the NCAA as a whole was improving at a faster rate than ever before. Kyle Sockwell, among others, has a name for this phenomenon: Swimflation.\n",
    "\n",
    "I wondered what this pheonomenon really means and how we might measure it.\n",
    "\n",
    "Swimming is an impressively quantifiable sport. \n",
    "\n",
    "On the individual level, there are:\n",
    "- Finish times\n",
    "- Event records\n",
    "- Splits\n",
    "- Stroke rates\n",
    "- Underwaters\n",
    "- Breathing patterns\n",
    "- Reaction times\n",
    "\n",
    "On the team level:\n",
    "- Team points\n",
    "- Team records\n",
    "- Championship titles\n",
    "- Championship-qualifying swimmers\n",
    "\n",
    "There are many ways to study how swimming performance has changed over time. I decided to focus on the NCAA Division 1 level because short course yards is the fastest format in the sport and because I'm a former NCAA D1 swimmer myself. USA Swimming has a robust database of *individual* NCAA performances that are easy to download in csv format, making it easy to collect and analyze. *(Note: The USA Swimming forms did not include relay data.)*\n",
    "\n",
    "I decided not to limit my analysis to performances from the championships but instead chose to include the top individual performances from any point in the season, in particular to account for swimmers who may have peaked at conference championships with extraordinary performances. I also collected data showing the progression of NCAA records over time, although it's unclear whether the USA Swimming database is as complete on this front as it is on the individual performance front, since it has fewer record breaking performances for each event in the format available for download.\n",
    "\n",
    "Using top performance and record progression data, I can try to study Swimflation in several different ways:\n",
    "- How have the top performances changed over time?\n",
    "- How has the range of top performances (i.e. the difference between the 1st and 16th) changed over time?\n",
    "- What do the distributions of top performances during different time periods look like?\n",
    "- TK\n",
    "\n",
    "This notebook will show how I can use usasw_scrape.py to collect data about top NCAA Division 1 swimming performances from the USA Swimming website, and then usasw_clean.py to clean the data and prepare it for analysis. "
   ]
  },
  {
   "cell_type": "code",
   "execution_count": 1,
   "metadata": {},
   "outputs": [],
   "source": [
    "# Import swimming scripts\n",
    "\n",
    "from usasw_clean_data import clean_ncaa_record_data\n",
    "from usasw_clean_data import calculate_record_stats\n",
    "from usasw_scrape_data import get_NCAA_results, fill_out_form\n",
    "\n",
    "# Import other libraries\n",
    "import numpy as np\n",
    "import pandas as pd\n",
    "import matplotlib.pyplot as plt"
   ]
  },
  {
   "cell_type": "code",
   "execution_count": 2,
   "metadata": {},
   "outputs": [],
   "source": [
    "records = 'data/NCAA_Records.csv'\n",
    "records = clean_ncaa_record_data(records)\n",
    "records = calculate_record_stats(records)"
   ]
  },
  {
   "attachments": {},
   "cell_type": "markdown",
   "metadata": {},
   "source": [
    "In the process of cleaning NCAA record data, I've removed records broken by the same swimmer at the same meet in the same year. It could be the case that a dominant swimmer breaks a record during prelims and again in finals, and while that's an impressive feat, I think it's more important to consider the final record set during a particular meet.\n",
    "\n",
    "Here's a sample of the data I collected:"
   ]
  },
  {
   "cell_type": "code",
   "execution_count": null,
   "metadata": {},
   "outputs": [],
   "source": [
    "records.sample(frac=0.05, random_state=23)"
   ]
  },
  {
   "attachments": {},
   "cell_type": "markdown",
   "metadata": {},
   "source": [
    "In order to do some analysis, I need to remove the earliest record performances from the data, since they won't have information in the 'record_broken_by' or 'record_improvement' data fields."
   ]
  },
  {
   "cell_type": "code",
   "execution_count": null,
   "metadata": {},
   "outputs": [],
   "source": [
    "def only_new_records(df):\n",
    "    return df[df['record_broken_by'] != 'No Earlier Record']\n",
    "\n",
    "new_records = only_new_records(records)\n",
    "\n",
    "# Create new dataframes for all male and female records\n",
    "male_records = records[records['gender'] == 'M']\n",
    "female_records = records[records['gender'] == 'F']\n",
    "\n",
    "# Create new dataframes for all new male and female records\n",
    "male_new_records = only_new_records(male_records)\n",
    "female_new_records = only_new_records(female_records)"
   ]
  },
  {
   "attachments": {},
   "cell_type": "markdown",
   "metadata": {},
   "source": [
    "I can create a dataframe that only includes the number of records broken in each season and use that to make a histogram."
   ]
  },
  {
   "cell_type": "code",
   "execution_count": null,
   "metadata": {},
   "outputs": [],
   "source": [
    "records_by_season = records_by_season = records.groupby('season').count().reset_index()\n",
    "records_by_season = records_by_season[['season', 'name']].rename(columns={'name': 'count'}).sort_values('count', ascending=False)\n",
    "\n",
    "bins = np.arange(2000,2024)\n",
    "\n",
    "# Plot the histogram of the number of records per season\n",
    "plt.bar(records_by_season['season'], \n",
    "            records_by_season['count'],\n",
    "            edgecolor='black', \n",
    "            linewidth=1.2)\n",
    "plt.xticks(bins, rotation=45, ha='center')\n",
    "plt.xlabel(\"Year\")\n",
    "plt.ylabel(\"Number of Records\")\n",
    "plt.title(\"Number of Records Set Per Season\")\n",
    "plt.show()\n"
   ]
  },
  {
   "attachments": {},
   "cell_type": "markdown",
   "metadata": {},
   "source": [
    "Interestingly, the number of records broken in 2023 was only the fourth most in a season, according to the data USA Swimming has. One important note is that this doesn't account for relay records, all of which were broken in 2023."
   ]
  },
  {
   "attachments": {},
   "cell_type": "markdown",
   "metadata": {},
   "source": [
    "Let's look at the breakdown for men and women:"
   ]
  },
  {
   "cell_type": "code",
   "execution_count": null,
   "metadata": {},
   "outputs": [],
   "source": [
    "male_records_by_season = male_records.groupby('season').count().reset_index()\n",
    "male_records_by_season = male_records_by_season[['season', 'name']].rename(\n",
    "    columns={'name': 'count'}).sort_values('count', ascending=False)\n",
    "\n",
    "female_records_by_season = female_records.groupby(\n",
    "    'season').count().reset_index()\n",
    "female_records_by_season = female_records_by_season[['season', 'name']].rename(\n",
    "    columns={'name': 'count'}).sort_values('count', ascending=False)\n",
    "\n",
    "bins = np.arange(2005, 2024)\n",
    "\n",
    "# Create subplots for male and female record counts\n",
    "fig, (ax1, ax2) = plt.subplots(1, 2, figsize=(12, 6))\n",
    "\n",
    "# Plot the histogram of the number of records per season\n",
    "ax1.bar(male_records_by_season['season'],\n",
    "        male_records_by_season['count'],\n",
    "        edgecolor='black',\n",
    "        linewidth=1.2)\n",
    "ax1.set_xticks(bins)\n",
    "ax1.set_xticklabels(bins, rotation=75, ha='center')\n",
    "ax1.set_title('Male Records')\n",
    "ax1.set_xlabel(\"Year\")\n",
    "ax1.set_ylabel(\"Number of Records\")\n",
    "\n",
    "ax2.bar(female_records_by_season['season'],\n",
    "        female_records_by_season['count'],\n",
    "        edgecolor='black',\n",
    "        linewidth=1.2)\n",
    "ax2.set_xticks(bins)\n",
    "ax2.set_xticklabels(bins, rotation=75, ha='center')\n",
    "ax2.set_title('Female Records')\n",
    "ax2.set_xlabel(\"Year\")\n",
    "ax2.set_ylabel(\"Number of Records\")\n",
    "\n",
    "plt.suptitle(\"Number of Records Set Per Season\")\n",
    "plt.show()\n"
   ]
  },
  {
   "cell_type": "code",
   "execution_count": null,
   "metadata": {},
   "outputs": [],
   "source": [
    "# Create a dataframe where each athlete_id and event_id can only appear once per season\n",
    "unique_records = records.drop_duplicates(\n",
    "    subset=['athlete_id', 'event_id', 'season'])\n",
    "unique_records_by_season = unique_records.groupby(\n",
    "    'season').count().reset_index()\n",
    "unique_records_by_season = unique_records_by_season[[\n",
    "    'season', 'athlete_id']].rename(columns={'athlete_id': 'unique_records'})\n",
    "\n",
    "male_unique_records = male_records.drop_duplicates(\n",
    "    subset=['athlete_id', 'event_id', 'season'])\n",
    "male_unique_records_by_season = male_unique_records.groupby(\n",
    "    'season').count().reset_index()\n",
    "male_unique_records_by_season = male_unique_records_by_season[[\n",
    "    'season', 'athlete_id']].rename(columns={'athlete_id': 'unique_records'})\n",
    "\n",
    "female_unique_records = female_records.drop_duplicates(\n",
    "    subset=['athlete_id', 'event_id', 'season'])\n",
    "female_unique_records_by_season = female_unique_records.groupby(\n",
    "    'season').count().reset_index()\n",
    "female_unique_records_by_season = female_unique_records_by_season[[\n",
    "    'season', 'athlete_id']].rename(columns={'athlete_id': 'unique_records'})\n",
    "\n",
    "bins = np.arange(2005, 2024)\n",
    "\n",
    "# Create subplots for male and female record counts\n",
    "fig, (ax1, ax2) = plt.subplots(1, 2, figsize=(12, 6))\n",
    "\n",
    "# Plot the histogram of the number of records per season\n",
    "ax1.bar(male_unique_records_by_season['season'],\n",
    "        male_unique_records_by_season['unique_records'],\n",
    "        edgecolor='black',\n",
    "        linewidth=1.2)\n",
    "ax1.set_xticks(bins)\n",
    "ax1.set_xticklabels(bins, rotation=75, ha='center')\n",
    "ax1.set_xlabel(\"Year\")\n",
    "ax1.set_ylabel(\"Number of Records\")\n",
    "\n",
    "ax2.bar(female_unique_records_by_season['season'],\n",
    "        female_unique_records_by_season['unique_records'],\n",
    "        edgecolor='black',\n",
    "        linewidth=1.2)\n",
    "ax2.set_xticks(bins)\n",
    "ax2.set_xticklabels(bins, rotation=75, ha='center')\n",
    "ax2.set_xlabel(\"Year\")\n",
    "ax2.set_ylabel(\"Number of Records\")\n",
    "\n",
    "plt.suptitle(\"Number of Unique Records Set Per Season\")\n",
    "plt.show()\n"
   ]
  },
  {
   "attachments": {},
   "cell_type": "markdown",
   "metadata": {},
   "source": [
    "We can restrict this further by only considering truly \"unique\" records, i.e. each swimmer only setsone record per event per season. This means that if a swimmer breaks a record at conference championships and then again at the NCAA championships, only the latter record will be counted."
   ]
  },
  {
   "cell_type": "code",
   "execution_count": null,
   "metadata": {},
   "outputs": [],
   "source": [
    "# Create a dataframe where each athlete_id and event_id can only appear once per season\n",
    "unique_records = records.drop_duplicates(\n",
    "    subset=['athlete_id', 'event_id', 'season'])\n",
    "unique_records_by_season = unique_records.groupby(\n",
    "    'season').count().reset_index()\n",
    "unique_records_by_season = unique_records_by_season[[\n",
    "    'season', 'athlete_id']].rename(columns={'athlete_id': 'unique_records'})\n",
    "\n",
    "male_unique_records = male_records.drop_duplicates(\n",
    "    subset=['athlete_id', 'event_id', 'season'])\n",
    "male_unique_records_by_season = male_unique_records.groupby(\n",
    "    'season').count().reset_index()\n",
    "male_unique_records_by_season = male_unique_records_by_season[[\n",
    "    'season', 'athlete_id']].rename(columns={'athlete_id': 'unique_records'})\n",
    "\n",
    "female_unique_records = female_records.drop_duplicates(\n",
    "    subset=['athlete_id', 'event_id', 'season'])\n",
    "female_unique_records_by_season = female_unique_records.groupby(\n",
    "    'season').count().reset_index()\n",
    "female_unique_records_by_season = female_unique_records_by_season[[\n",
    "    'season', 'athlete_id']].rename(columns={'athlete_id': 'unique_records'})\n",
    "\n",
    "bins = np.arange(2005, 2024)\n",
    "\n",
    "# Create subplots for male and female record counts\n",
    "fig, (ax1, ax2) = plt.subplots(1, 2, figsize=(12, 6))\n",
    "\n",
    "# Plot the histogram of the number of records per season\n",
    "ax1.bar(male_unique_records_by_season['season'],\n",
    "        male_unique_records_by_season['unique_records'],\n",
    "        edgecolor='black',\n",
    "        linewidth=1.2)\n",
    "ax1.set_xticks(bins)\n",
    "ax1.set_xticklabels(bins, rotation=75, ha='center')\n",
    "ax1.set_title(\"Male Records\")\n",
    "ax1.set_xlabel(\"Year\")\n",
    "ax1.set_ylabel(\"Number of Records\")\n",
    "\n",
    "ax2.bar(female_unique_records_by_season['season'],\n",
    "        female_unique_records_by_season['unique_records'],\n",
    "        edgecolor='black',\n",
    "        linewidth=1.2)\n",
    "ax2.set_xticks(bins)\n",
    "ax2.set_xticklabels(bins, rotation=75, ha='center')\n",
    "ax2.set_title(\"Female Records\")\n",
    "ax2.set_xlabel(\"Year\")\n",
    "ax2.set_ylabel(\"Number of Records\")\n",
    "\n",
    "plt.suptitle(\"Number of Unique Records Set Per Season\")\n",
    "plt.show()\n"
   ]
  },
  {
   "attachments": {},
   "cell_type": "markdown",
   "metadata": {},
   "source": [
    "The next question we should consider is whether record improvement has been increasing over time. I can use the 'record_improvement' data field to answer this question.\n",
    "\n",
    "I see two ways of considering this question:\n",
    "- How has the average record improvement changed over time?\n",
    "- In a given season, how much faster did an event get overall?"
   ]
  },
  {
   "cell_type": "code",
   "execution_count": null,
   "metadata": {},
   "outputs": [],
   "source": [
    "# Select dataframe with only season and record_broken_by columns\n",
    "records_broken_by = records[['season', 'distance','record_broken_by']]\n",
    "records_broken_by = records_broken_by.groupby(['season', 'distance'])['record_broken_by'].sum().reset_index()\n"
   ]
  }
 ],
 "metadata": {
  "kernelspec": {
   "display_name": "Python 3",
   "language": "python",
   "name": "python3"
  },
  "language_info": {
   "codemirror_mode": {
    "name": "ipython",
    "version": 3
   },
   "file_extension": ".py",
   "mimetype": "text/x-python",
   "name": "python",
   "nbconvert_exporter": "python",
   "pygments_lexer": "ipython3",
   "version": "3.11.2"
  },
  "orig_nbformat": 4
 },
 "nbformat": 4,
 "nbformat_minor": 2
}
