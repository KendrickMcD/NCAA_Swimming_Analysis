{
 "cells": [
  {
   "attachments": {},
   "cell_type": "markdown",
   "metadata": {},
   "source": [
    "# USA Swimming Data Analysis\n",
    "\n",
    "Kendrick McDonald\n",
    "\n",
    "At both the Men's and Women's NCAA Division 1 Swimming Championships this March, as well as conference championships earlier in the season, it seemed like NCAA records were falling at an unprecedented rate. Some of the top performers achieved times I never thought I would see in my lifetime. Perhaps even more interesting, it seemed that the top end of the NCAA as a whole was improving at a faster rate than ever before. Kyle Sockwell, among others, has a name for this phenomenon: Swimflation.\n",
    "\n",
    "I wondered what this pheonomenon really means and how we might measure it.\n",
    "\n",
    "Swimming is an impressively quantifiable sport. \n",
    "\n",
    "On the individual level, there are:\n",
    "- Finish times\n",
    "- Event records\n",
    "- Splits\n",
    "- Stroke rates\n",
    "- Underwaters\n",
    "- Breathing patterns\n",
    "- Reaction times\n",
    "\n",
    "On the team level:\n",
    "- Team points\n",
    "- Team records\n",
    "- Championship titles\n",
    "- Championship-qualifying swimmers\n",
    "\n",
    "There are many ways to study how swimming performance has changed over time. I decided to focus on the NCAA Division 1 level because short course yards is the fastest format in the sport and because I'm a former NCAA D1 swimmer myself. USA Swimming has a robust database of NCAA performances that are easy to download in csv format, making it easy to collect and analyze. \n",
    "\n",
    "I decided not to limit my analysis to performances from the championships but instead chose to include the top performances from any point in the season, in particular to account for swimmers who may have peaked at conference championships with extraordinary performances. I also collected data showing the progression of NCAA records over time, although it's unclear whether the USA Swimming database is as complete on this front as it is on the individual performance front, since it has fewer record breaking performances for each event in the format available for download.\n",
    "\n",
    "Using top performance and record progression data, I can try to study Swimflation in several different ways:\n",
    "- How have the top performances changed over time?\n",
    "- How has the range of top performances (i.e. the difference between the 1st and 16th) changed over time?\n",
    "- What do the distributions of top performances during different time periods look like?\n",
    "- TK\n",
    "\n",
    "This notebook will show how I can use usasw_scrape.py to collect data about top NCAA Division 1 swimming performances from the USA Swimming website, and then usasw_clean.py to clean the data and prepare it for analysis. "
   ]
  },
  {
   "cell_type": "code",
   "execution_count": 35,
   "metadata": {},
   "outputs": [],
   "source": [
    "# Import swimming scripts\n",
    "\n",
    "from usasw_clean_data import clean_ncaa_record_data\n",
    "from usasw_clean_data import calculate_record_stats\n",
    "from usasw_scrape_data import get_NCAA_results, fill_out_form\n",
    "\n",
    "# Import other libraries\n",
    "import numpy as np\n",
    "import pandas as pd"
   ]
  },
  {
   "cell_type": "code",
   "execution_count": 36,
   "metadata": {},
   "outputs": [],
   "source": [
    "records = 'data/NCAA_Records.csv'\n",
    "records = clean_ncaa_record_data(records)\n",
    "records = calculate_record_stats(records)"
   ]
  },
  {
   "attachments": {},
   "cell_type": "markdown",
   "metadata": {},
   "source": [
    "In the process of cleaning NCAA record data, I've removed records broken by the same swimmer at the same meet in the same year. It could be the case that a dominant swimmer breaks a record during prelims and again in finals, and while that's an impressive feat, I think it's more important to consider the final record set during a particular meet.\n",
    "\n",
    "Here's a sample of the data I collected:"
   ]
  },
  {
   "cell_type": "code",
   "execution_count": 37,
   "metadata": {},
   "outputs": [
    {
     "ename": "AttributeError",
     "evalue": "'NoneType' object has no attribute 'sample'",
     "output_type": "error",
     "traceback": [
      "\u001b[0;31m---------------------------------------------------------------------------\u001b[0m",
      "\u001b[0;31mAttributeError\u001b[0m                            Traceback (most recent call last)",
      "Cell \u001b[0;32mIn[37], line 1\u001b[0m\n\u001b[0;32m----> 1\u001b[0m records\u001b[39m.\u001b[39;49msample(frac\u001b[39m=\u001b[39m\u001b[39m0.05\u001b[39m, random_state\u001b[39m=\u001b[39m\u001b[39m23\u001b[39m)\n",
      "\u001b[0;31mAttributeError\u001b[0m: 'NoneType' object has no attribute 'sample'"
     ]
    }
   ],
   "source": [
    "records.sample(frac=0.05, random_state=23)"
   ]
  },
  {
   "cell_type": "code",
   "execution_count": 12,
   "metadata": {},
   "outputs": [],
   "source": [
    "def only_new_records(df):\n",
    "    return df[df['record_broken_by'] != 'No Earlier Record']"
   ]
  }
 ],
 "metadata": {
  "kernelspec": {
   "display_name": "Python 3",
   "language": "python",
   "name": "python3"
  },
  "language_info": {
   "codemirror_mode": {
    "name": "ipython",
    "version": 3
   },
   "file_extension": ".py",
   "mimetype": "text/x-python",
   "name": "python",
   "nbconvert_exporter": "python",
   "pygments_lexer": "ipython3",
   "version": "3.11.2"
  },
  "orig_nbformat": 4
 },
 "nbformat": 4,
 "nbformat_minor": 2
}
